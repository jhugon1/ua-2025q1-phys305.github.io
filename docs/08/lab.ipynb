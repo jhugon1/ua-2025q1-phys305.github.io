{
 "cells": [
  {
   "cell_type": "markdown",
   "id": "0",
   "metadata": {},
   "source": [
    "# Integration Lab"
   ]
  },
  {
   "cell_type": "markdown",
   "id": "1",
   "metadata": {},
   "source": [
    "In this lab, you will explore two important challenges in numerical integration:\n",
    "\n",
    "1. Handling improper integrals using coordinate transformation.\n",
    "   Many real-world integrals have infinite limits or singularities.\n",
    "   Direct numerical integration often fails, so we apply **variable transformations** to map the integral to a finite domain.\n",
    "  \n",
    "2. Investigating convergence properties for functions with discontinuities.\n",
    "   Standard numerical methods assume smoothness for high accuracy.\n",
    "   If the function has a **jump discontinuity**, we will observe how the convergence rate deteriorates."
   ]
  },
  {
   "cell_type": "markdown",
   "id": "2",
   "metadata": {},
   "source": [
    "## Handling an Improper Integral via Coordinate Transformation\n",
    "\n",
    "Consider the improper integral:\n",
    "\\begin{align}\n",
    "I = \\int_0^{\\infty} \\frac{1}{1 + x^2} dx.\n",
    "\\end{align}\n",
    "\n",
    "This integral is well-known, and its exact value is:\n",
    "\\begin{align}\n",
    "I = \\frac{\\pi}{2}.\n",
    "\\end{align}\n",
    "\n",
    "However, standard numerical integration methods fail because the domain extends to **infinity**.\n",
    "To solve this, we introduce a **coordinate transformation** that maps the infinite domain $[0, \\infty)$ to a finite domain $[0,1]$."
   ]
  },
  {
   "cell_type": "markdown",
   "id": "3",
   "metadata": {},
   "source": [
    "### Coordinate Transformation\n",
    "\n",
    "A common transformation is:\n",
    "\\begin{align}\n",
    "x = \\frac{t}{1 - t}, \\quad \\text{where } t \\in [0,1].\n",
    "\\end{align}\n",
    "\n",
    "Differentiating,\n",
    "\\begin{align}\n",
    "dx = \\frac{dt}{(1 - t)^2}.\n",
    "\\end{align}\n",
    "\n",
    "Rewriting the integral in terms of $t$:\n",
    "\\begin{align}\n",
    "I\n",
    "&= \\int_0^1 \\frac{1}{1 + \\left(\\frac{t}{1 - t}\\right)^2} \\frac{dt}{(1 - t)^2} \\\\\n",
    "&= \\int_0^1 \\frac{dt}{(1-t)^2 + t^2} \\\\\n",
    "&= \\int_0^1 \\frac{dt}{1 - 2t + 2t^2}\n",
    "\\end{align}\n",
    "\n",
    "This transforms the infinite limit $x = \\infty$ to the finite limit $t = 1$, allowing us to apply numerical integration techniques."
   ]
  },
  {
   "cell_type": "code",
   "execution_count": 1,
   "id": "4",
   "metadata": {},
   "outputs": [],
   "source": [
    "import numpy as np\n",
    "from matplotlib import pyplot as plt"
   ]
  },
  {
   "cell_type": "code",
   "execution_count": 5,
   "id": "5",
   "metadata": {},
   "outputs": [],
   "source": [
    "# HANDSON: Define the original function\n",
    "def f(x):\n",
    "    return 1/(1+x**2)"
   ]
  },
  {
   "cell_type": "code",
   "execution_count": 27,
   "id": "6",
   "metadata": {},
   "outputs": [],
   "source": [
    "# HANDSON: Define the transformed function\n",
    "def ft(t):\n",
    "    return 1/(1-2*t+2*t**2)\n"
   ]
  },
  {
   "cell_type": "code",
   "execution_count": 30,
   "id": "7",
   "metadata": {},
   "outputs": [],
   "source": [
    "# HANDSON: Implement Middle Riemann Sum\n",
    "\n",
    "def middle(f, N, a=0, b=1):\n",
    "    D = (b-a) / N\n",
    "    X_mid = [D * (i + 0.5) for i in range(N)]\n",
    "    S_mid = np.sum([f(point) * D for point in X_mid])\n",
    "    return S_mid"
   ]
  },
  {
   "cell_type": "code",
   "execution_count": 31,
   "id": "8",
   "metadata": {},
   "outputs": [
    {
     "name": "stdout",
     "output_type": "stream",
     "text": [
      "Middle Riemann Sum (N=64): 1.5708370168981682\n",
      "Exact Integral: 1.5707963267948966\n",
      "Absolute Error: 4.069010327167888e-05\n"
     ]
    }
   ],
   "source": [
    "# Perform the integration using the transformed variable\n",
    "N = 64  # Number of sub-intervals\n",
    "I = np.pi / 2\n",
    "I_middle = middle(ft, N)\n",
    "\n",
    "# Print results\n",
    "print(f\"Middle Riemann Sum (N={N}): {I_middle}\")\n",
    "print(f\"Exact Integral: {I}\")\n",
    "print(f\"Absolute Error: {abs(I_middle - I)}\")"
   ]
  },
  {
   "cell_type": "markdown",
   "id": "9",
   "metadata": {},
   "source": [
    "## Integrating a Function with a Jump Discontinuity\n",
    "\n",
    "Many numerical integration methods assume smoothness of the function.\n",
    "However, when the function has a jump discontinuity, the convergence rate degrades significantly.\n",
    "\n",
    "Consider the function:\n",
    "\\begin{align}\n",
    "f(x) = \\sin(\\pi x) +\n",
    "\\begin{cases}\n",
    "0, & 0 \\leq x < 0.5 \\\\\n",
    "1, & 0.5 \\leq x \\leq 1\n",
    "\\end{cases}\n",
    "\\end{align}\n",
    "\n",
    "We compute the definite integral:\n",
    "\\begin{align}\n",
    "I = \\int_0^1 f(x) dx.\n",
    "\\end{align}\n",
    "\n",
    "Since the function is piecewise constant, the exact integral is $2/\\pi + 1/2$.\n",
    "However, standard numerical integration methods will struggle to approximate this accurately due to the jump at $x = 0.5$."
   ]
  },
  {
   "cell_type": "code",
   "execution_count": 32,
   "id": "10",
   "metadata": {},
   "outputs": [],
   "source": [
    "# HANDSON: Define the left and right functions\n",
    "def fL(x):\n",
    "    return np.sin(np.pi*x)\n",
    "def fR(x):\n",
    "    return np.sin(np.pi*x)+1\n",
    "\n",
    "def f(x):\n",
    "    return np.where(x < 0.5, fL(x), fR(x))"
   ]
  },
  {
   "cell_type": "code",
   "execution_count": 33,
   "id": "11",
   "metadata": {},
   "outputs": [],
   "source": [
    "# HANDSON: Implement the Trapezoidal Rule\n",
    "def trapezoidal(f, N=8, a=0, b=1):\n",
    "    X, D = np.linspace(a, b, N+1, retstep=True)\n",
    "    return np.sum(f(X[1:]) + f(X[:-1])) * 0.5 * D"
   ]
  },
  {
   "cell_type": "code",
   "execution_count": 34,
   "id": "12",
   "metadata": {},
   "outputs": [],
   "source": [
    "# HANDSON: Implement Simpson's Rule\n",
    "def simpson(f, N=8, a=0, b=1):\n",
    "    X, D = np.linspace(a, b, N+1, retstep=True)\n",
    "    S = 0\n",
    "    for i in range(N // 2):\n",
    "        l = X[2 * i]\n",
    "        m = X[2 * i + 1]\n",
    "        r = X[2 * i + 2]\n",
    "        S += D * (f(l) + 4 * f(m) + f(r)) / 3\n",
    "    return S"
   ]
  },
  {
   "cell_type": "code",
   "execution_count": 35,
   "id": "13",
   "metadata": {},
   "outputs": [
    {
     "data": {
      "image/png": "[encoded data removed]",
      "text/plain": [
       "<Figure size 432x288 with 1 Axes>"
      ]
     },
     "metadata": {
      "needs_background": "light"
     },
     "output_type": "display_data"
    }
   ],
   "source": [
    "# Compute exact integral\n",
    "I = 2/np.pi + 0.5\n",
    "\n",
    "# Compare convergence for different methods\n",
    "Ns = [4, 8, 16, 32, 64, 128, 256]\n",
    "errs_trap  = []\n",
    "errs_simp  = []\n",
    "errs_trap2 = []\n",
    "errs_simp2 = []\n",
    "\n",
    "for N in Ns:\n",
    "    I_trap  = trapezoidal(f, N)\n",
    "    I_simp  = simpson    (f, N)\n",
    "    I_trap2 = trapezoidal(fL, N//2, 0, 0.5) + trapezoidal(fR, N//2, 0.5, 1)\n",
    "    I_simp2 = simpson    (fL, N//2, 0, 0.5) + simpson    (fR, N//2, 0.5, 1)\n",
    "    errs_trap .append(abs(I_trap  - I))\n",
    "    errs_simp .append(abs(I_simp  - I))\n",
    "    errs_trap2.append(abs(I_trap2 - I))\n",
    "    errs_simp2.append(abs(I_simp2 - I))\n",
    "\n",
    "# Plot error convergence\n",
    "plt.loglog(Ns, errs_trap,  'o--', label='Trapezoidal Rule')\n",
    "plt.loglog(Ns, errs_simp,  's--', label='Simpson’s Rule')\n",
    "plt.loglog(Ns, errs_trap2, 'o-',  label='Trapezoidal Rule 2')\n",
    "plt.loglog(Ns, errs_simp2, 's-',  label='Simpson’s Rule 2')\n",
    "plt.loglog(Ns, np.array(Ns)**(-1.), ':', label=r'$N^{-1}$ reference')\n",
    "plt.loglog(Ns, np.array(Ns)**(-2.), ':', label=r'$N^{-2}$ reference')\n",
    "plt.xlabel('Number of Intervals (N)')\n",
    "plt.ylabel('Absolute Error')\n",
    "plt.legend()\n",
    "plt.title('Convergence of Numerical Integration on a Discontinuous Function')\n",
    "plt.show()"
   ]
  },
  {
   "cell_type": "markdown",
   "id": "14",
   "metadata": {},
   "source": [
    "Observations\n",
    "1. Degraded Convergence Rate\n",
    "   * For smooth functions, Simpson's rule is expected to converge at $\\mathcal{O}(N^{-4})$.\n",
    "   * However, due to the discontinuity at $x = 0.5$, it instead converges at $\\mathcal{O}(N^{-1})$.\n",
    "2. Poor Accuracy for Large (N)\n",
    "   * Increasing (N) does not always help significantly because the integration points do not align with the discontinuity.\n",
    "3. Potential Fixes\n",
    "   * Refinement Near the Discontinuity: Placing additional points near $x = 0.5$ (which we didn't implement).\n",
    "   * Splitting the Integral: Compute separate integrals for $[0, 0.5]$ and $[0.5, 1]$."
   ]
  }
 ],
 "metadata": {
  "kernelspec": {
   "display_name": "Python 3 (ipykernel)",
   "language": "python",
   "name": "python3"
  },
  "language_info": {
   "codemirror_mode": {
    "name": "ipython",
    "version": 3
   },
   "file_extension": ".py",
   "mimetype": "text/x-python",
   "name": "python",
   "nbconvert_exporter": "python",
   "pygments_lexer": "ipython3",
   "version": "3.9.12"
  }
 },
 "nbformat": 4,
 "nbformat_minor": 5
}
