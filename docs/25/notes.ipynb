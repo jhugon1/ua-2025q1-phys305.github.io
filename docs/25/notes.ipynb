{
 "cells": [
  {
   "cell_type": "markdown",
   "id": "0",
   "metadata": {},
   "source": [
    "# Numerical Partial Differential Equation IV: Spectral Methods"
   ]
  },
  {
   "cell_type": "markdown",
   "id": "1",
   "metadata": {},
   "source": [
    "## Weak Formulation|\n",
    "\n",
    "In mathematical modeling of physical systems, **weak formulations** provide a powerful framework to analyze and solve partial differential equations (PDEs).\n",
    "Unlike the traditional strong (or classical) formulations, which require the solution to be differentiable and satisfy the PDE everywhere in the domain, the weak formulation relaxes these requirements.\n",
    "Instead, it ensures that the PDE holds in an **integral sense**, allowing solutions that may be less regular."
   ]
  },
  {
   "cell_type": "markdown",
   "id": "2",
   "metadata": {},
   "source": [
    "### Why Weak Formulations?\n",
    "\n",
    "1. **Broader Solution Space:**\n",
    "   Weak formulations permit solutions that are not differentiable everywhere, such as those with discontinuities or sharp gradients.\n",
    "   This is particularly useful in real-world problems, such as fluid dynamics, where solutions often exhibit such features.\n",
    "\n",
    "2. **Natural Fit for Numerical Methods:**\n",
    "   Many numerical methods, including **finite element** and **spectral methods**, are based on weak formulations.\n",
    "   These methods approximate the solution by projecting it onto a finite-dimensional space of basis functions, ensuring that the integral form of the equation is satisfied.\n",
    "\n",
    "3. **Conservation Laws:**\n",
    "   Weak formulations often align naturally with conservation laws, as they integrate the governing equations over a control volume or domain.\n",
    "   This ensures that key physical quantities, such as mass, momentum, and energy, are preserved in the numerical approximation."
   ]
  },
  {
   "cell_type": "markdown",
   "id": "3",
   "metadata": {},
   "source": [
    "### Key Idea of Weak Formulation\n",
    "\n",
    "Given a PDE:\n",
    "\\begin{align}\n",
    "\\mathcal{L}(u) = f,\n",
    "\\end{align}\n",
    "where $\\mathcal{L}$ is a differential operator, $u$ is the solution, and $f$ is a source term, the weak formulation is derived by multiplying the equation by a **test function** $v$ and integrating over the domain $\\Omega$:\n",
    "\\begin{align}\n",
    "\\int_\\Omega v \\, \\mathcal{L}(u) \\, d\\Omega = \\int_\\Omega v \\, f \\, d\\Omega.\n",
    "\\end{align}\n",
    "\n",
    "Through integration by parts, derivatives on $u$ are shifted onto $v$, reducing the regularity requirements on $u$.\n",
    "For example, the weak form of the Poisson equation:\n",
    "\\begin{align}\n",
    "-\\nabla^2 u = f,\n",
    "\\end{align}\n",
    "becomes:\n",
    "\\begin{align}\n",
    "\\int_\\Omega \\nabla v \\cdot \\nabla u \\, d\\Omega = \\int_\\Omega v f \\, d\\Omega.\n",
    "\\end{align}\n",
    "\n",
    "Here, $u$ needs only to be square-integrable, rather than twice differentiable, making the formulation more flexible."
   ]
  },
  {
   "cell_type": "markdown",
   "id": "4",
   "metadata": {},
   "source": [
    "### Connection to Spectral Methods\n",
    "\n",
    "Spectral methods build directly on the weak formulation by representing the solution $u$ and test functions $v$ as expansions in terms of orthogonal basis functions (e.g., Fourier modes or polynomials).\n",
    "The PDE is then projected onto these basis functions, leading to a system of algebraic equations for the coefficients of the expansion.\n",
    "\n",
    "The transition from weak formulations to spectral methods highlights the elegance and power of this approach: by working in function spaces tailored to the problem, spectral methods achieve high accuracy and efficiency in solving PDEs, particularly for smooth solutions in periodic domains."
   ]
  },
  {
   "cell_type": "markdown",
   "id": "5",
   "metadata": {},
   "source": [
    "## **Introduction to Spectral Methods**\n",
    "\n",
    "Spectral methods are a powerful class of numerical techniques used to solve partial differential equations (PDEs) by representing the solution as a global expansion of orthogonal basis functions.\n",
    "Unlike finite difference or finite volume methods, which approximate the solution locally at discrete grid points, spectral methods leverage the smoothness of the solution to achieve high accuracy with fewer degrees of freedom.\n",
    "This makes spectral methods particularly suitable for problems involving smooth and periodic solutions, such as fluid dynamics and wave propagation."
   ]
  },
  {
   "cell_type": "markdown",
   "id": "6",
   "metadata": {},
   "source": [
    "**Why Use Spectral Methods?**\n",
    "\n",
    "1. **High Accuracy:**\n",
    "   Spectral methods are renowned for their ability to achieve exponential convergence rates for smooth solutions.\n",
    "   By representing the solution as a sum of global basis functions, spectral methods resolve fine details with far fewer grid points compared to traditional numerical methods.\n",
    "\n",
    "2. **Efficient Computation:**\n",
    "   Operations such as differentiation and integration become algebraic manipulations in spectral space.\n",
    "   This allows for fast and efficient computation, especially when coupled with Fast Fourier Transforms (FFT).\n",
    "\n",
    "3. **Energy-Conserving Properties:**\n",
    "   By carefully choosing the basis functions and truncating higher-order modes (Galerkin truncation), spectral methods naturally conserve key physical quantities like energy and enstrophy.\n",
    "   This property is critical in applications such as turbulence modeling and geophysical fluid dynamics.\n",
    "\n",
    "4. **Applications in Science and Engineering:**\n",
    "   Spectral methods are widely used in areas such as:\n",
    "   * Astrophysical fluid dynamics.\n",
    "   * Weather prediction and ocean modeling.\n",
    "   * Quantum mechanics and wave phenomena."
   ]
  },
  {
   "cell_type": "markdown",
   "id": "7",
   "metadata": {},
   "source": [
    "**Core Idea of Spectral Methods**\n",
    "\n",
    "The central idea of spectral methods is to approximate a function $u(x)$ as a series of orthogonal basis functions.\n",
    "For example, in the Fourier spectral method, the function is expanded as:\n",
    "\\begin{align}\n",
    "u(x) = \\sum_{k=-N/2}^{N/2} \\hat{u}_k e^{i k x},\n",
    "\\end{align}\n",
    "where $\\hat{u}_k$ are the Fourier coefficients representing the contribution of each basis function.\n",
    "The advantage of this representation is that operations like differentiation transform into simple multiplications in spectral space.\n",
    "For example:\n",
    "\\begin{align}\n",
    "\\frac{\\partial u}{\\partial x} = \\sum_{k=-N/2}^{N/2} i k \\hat{u}_k e^{i k x}.\n",
    "\\end{align}\n",
    "This property drastically simplifies the computation of derivatives, making spectral methods particularly attractive for solving PDEs."
   ]
  },
  {
   "cell_type": "code",
   "execution_count": null,
   "id": "8",
   "metadata": {},
   "outputs": [],
   "source": [
    "import numpy as np\n",
    "from numpy.fft  import fft2, ifft2\n",
    "from matplotlib import pyplot as plt\n",
    "from tqdm import tqdm"
   ]
  },
  {
   "cell_type": "code",
   "execution_count": null,
   "id": "9",
   "metadata": {},
   "outputs": [],
   "source": [
    "Lx = 2 * np.pi # Domain size\n",
    "Nx = 128       # Number of grid points\n",
    "\n",
    "x  = np.linspace(-Lx/2, Lx/2, Nx, endpoint=False)\n",
    "kx = np.fft.fftfreq(Nx, d=Lx/Nx) * 2 * np.pi"
   ]
  },
  {
   "cell_type": "code",
   "execution_count": null,
   "id": "10",
   "metadata": {},
   "outputs": [],
   "source": [
    "f = np.exp(-0.5 * (x*x) / 0.1)\n",
    "plt.plot(f)"
   ]
  },
  {
   "cell_type": "code",
   "execution_count": null,
   "id": "11",
   "metadata": {},
   "outputs": [],
   "source": [
    "g_exact = -x * np.exp(-0.5 * (x*x) / 0.1) / 0.1\n",
    "plt.plot(g_exact)"
   ]
  },
  {
   "cell_type": "code",
   "execution_count": null,
   "id": "12",
   "metadata": {},
   "outputs": [],
   "source": [
    "F = np.fft.fft(f)\n",
    "G = 1j * kx * F\n",
    "g = np.fft.ifft(G).real\n",
    "\n",
    "plt.plot(g_exact)\n",
    "plt.plot(g, ':')\n",
    "\n",
    "np.max(abs(g - g_exact))"
   ]
  },
  {
   "cell_type": "markdown",
   "id": "13",
   "metadata": {},
   "source": [
    "**Periodic vs. Non-Periodic Domains**\n",
    "\n",
    "Spectral methods are naturally suited to periodic domains, where Fourier basis functions $e^{i k x}$ form an orthogonal basis.\n",
    "For non-periodic problems, alternative basis functions like Chebyshev polynomials or Legendre polynomials are used.\n",
    "These basis functions maintain the accuracy of spectral methods while adapting to non-periodic boundary conditions."
   ]
  },
  {
   "cell_type": "markdown",
   "id": "14",
   "metadata": {},
   "source": [
    "**Strengths**\n",
    "* **Exponential Convergence:** For smooth problems, spectral methods outperform traditional numerical methods in terms of accuracy.\n",
    "* **Global Representation:** Captures global features of the solution with fewer degrees of freedom.\n",
    "* **Efficiency with FFT:** Fast Fourier Transforms enable rapid computation of spectral coefficients.\n",
    "\n",
    "**Limitations**\n",
    "* **Smoothness Requirement:** Spectral methods perform poorly for non-smooth or discontinuous solutions, where the Gibbs phenomenon introduces oscillations.\n",
    "* **Complexity for Non-Periodic Domains:** Implementing spectral methods for non-periodic problems requires specialized basis functions and quadrature rules.\n",
    "* **Global Coupling:** Each mode influences the entire domain, which can lead to computational challenges for very large systems."
   ]
  },
  {
   "cell_type": "markdown",
   "id": "15",
   "metadata": {},
   "source": [
    "**Spectral Methods in Fluid Dynamics**\n",
    "\n",
    "In fluid dynamics, spectral methods are commonly used to solve the incompressible Navier-Stokes equations.\n",
    "By transforming the equations into spectral space, the nonlinear terms can be computed efficiently while maintaining conservation properties.\n",
    "For incompressible flows, the vorticity-streamfunction formulation is particularly suitable, as it eliminates the pressure term and reduces the computational complexity.\n",
    "\n",
    "In this lecture, we will focus on applying spectral methods to solve the **2D incompressible hydrodynamics equations**. Specifically, we will:\n",
    "1. Derive the governing equations in spectral space.\n",
    "2. Discuss the vorticity-streamfunction formulation and its advantages.\n",
    "3. Implement a spectral solver to simulate the evolution of vorticity in a 2D periodic domain.\n",
    "\n",
    "This introduction sets the stage for understanding how spectral methods leverage mathematical elegance and computational efficiency to solve complex PDEs with remarkable accuracy."
   ]
  },
  {
   "cell_type": "markdown",
   "id": "16",
   "metadata": {},
   "source": [
    "## Introduction to 2D Incompressible Hydrodynamics\n",
    "\n",
    "The hydrodynamic equations govern the conservation of mass and momentum in a fluid.\n",
    "In their compressible form (that we derived in previous lectures), they are written as:\n",
    "\\begin{align}\n",
    "\\frac{\\partial \\rho}{\\partial t} + \\nabla \\cdot (\\rho \\mathbf{u}) &= 0, \\quad \\text{(Continuity Equation)} \\\\\n",
    "\\frac{\\partial (\\rho \\mathbf{u})}{\\partial t} + \\nabla \\cdot (\\rho \\mathbf{u} \\mathbf{u}) &= -\\nabla p + \\mu \\nabla^2 \\mathbf{u} + \\mathbf{f}, \\quad \\text{(Momentum Equation)}\n",
    "\\end{align}\n",
    "where:\n",
    "* $\\rho$ is the density,\n",
    "* $\\mathbf{u}$ is the velocity field,\n",
    "* $p$ is the pressure,\n",
    "* $\\mu$ is the dynamic viscosity,\n",
    "* $\\mathbf{f}$ is an external force."
   ]
  },
  {
   "cell_type": "markdown",
   "id": "17",
   "metadata": {},
   "source": [
    "In the **incompressible limit**, the sound speed approaches infinite $c \\rightarrow \\infty$.\n",
    "For simplicity, the density $\\rho$ can be assumed constant, and the continuity equation reduces to the **incompressibility condition**:\n",
    "\\begin{align}\n",
    "\\nabla \\cdot \\mathbf{u} = 0.\n",
    "\\end{align}\n",
    "Substituting this condition into the momentum equation simplifies the Navier-Stokes equations to:\n",
    "\\begin{align}\n",
    "\\frac{\\partial \\mathbf{u}}{\\partial t} + (\\mathbf{u} \\cdot \\nabla) \\mathbf{u} = -\\nabla p + \\nu \\nabla^2 \\mathbf{u} + \\mathbf{f},\n",
    "\\end{align}\n",
    "where $\\nu = \\mu / \\rho$ is the kinematic viscosity.\n",
    "These equations describe the flow of incompressible fluids and are widely used in modeling small-scale laboratory experiments and large-scale geophysical flows."
   ]
  },
  {
   "cell_type": "markdown",
   "id": "18",
   "metadata": {},
   "source": [
    "While the incompressible Navier-Stokes equations also apply to three-dimensional flows, many physical systems can be effectively approximated as two-dimensional.\n",
    "For example:\n",
    "* Atmospheric flows and ocean currents are largely horizontal due to their vast spatial extent compared to their depth.\n",
    "* Thin liquid films and confined flows are geometrically restricted to two dimensions.\n",
    "\n",
    "In 2D, the dynamics exhibit unique features that distinguish them from 3D flows:\n",
    "\n",
    "**Conservation of Enstrophy**\n",
    "\n",
    "In 2D, the vorticity $w = \\nabla \\times \\mathbf{u}$ is a scalar field.\n",
    "Its evolution is governed by the **vorticity transport equation**, which conserves both **energy** and **enstrophy** in the absence of dissipation:\n",
    "\\begin{align}\n",
    "E &= \\frac{1}{2} \\int |\\mathbf{u}|^2 \\, dx \\, dy\\\\\n",
    "Z &= \\frac{1}{2} \\int w^2 \\, dx \\, dy.\n",
    "\\end{align}\n",
    "\n",
    "Energy conservation governs the total kinetic energy of the system, while enstrophy conservation introduces a second constraint that strongly influences the flow dynamics."
   ]
  },
  {
   "cell_type": "markdown",
   "id": "19",
   "metadata": {},
   "source": [
    "**Inverse Energy Cascade**\n",
    "\n",
    "A striking feature of 2D turbulence is the **inverse energy cascade**.\n",
    "In 3D turbulence, energy flows from large scales (low wavenumbers) to small scales (high wavenumbers) and is dissipated by viscosity.\n",
    "In 2D, however, energy flows in the opposite direction, from small scales to large scales, leading to the formation of large, coherent structures like cyclones and anticyclones.\n",
    "This behavior is directly tied to the dual conservation of energy and enstrophy."
   ]
  },
  {
   "cell_type": "markdown",
   "id": "20",
   "metadata": {},
   "source": [
    "## Vorticity-Streamfunction Formulation\n",
    "\n",
    "To simplify the mathematical and computational treatment of 2D incompressible hydrodynamics, the governing equations are often reformulated in terms of the **vorticity** $w$ and the **streamfunction** $\\psi$.\n",
    "This formulation has several advantages: it eliminates the pressure term from the equations, reduces the number of variables, and ensures incompressibility is automatically satisfied.\n",
    "In this section, we derive the vorticity-streamfunction formulation, define the Jacobian determinant to handle the nonlinear advection term, and introduce additional physical effects such as Ekman damping and the beta-plane approximation."
   ]
  },
  {
   "cell_type": "markdown",
   "id": "21",
   "metadata": {},
   "source": [
    "### Definitions and Key Relationships\n",
    "\n",
    "For 2D incompressible flows, the velocity field $\\mathbf{u} = (u_x, u_y)$ can be expressed in terms of a scalar function, the **streamfunction** $\\psi(x, y, t)$, as:\n",
    "\\begin{align}\n",
    "\\mathbf{u} = \\nabla \\times (\\psi \\mathbf{\\hat{z}}),\n",
    "\\end{align}\n",
    "where $\\mathbf{\\hat{z}}$ is the unit vector perpendicular to the 2D plane.\n",
    "In component form:\n",
    "\\begin{align}\n",
    "u_x = \\frac{\\partial \\psi}{\\partial y}, \\quad u_y = -\\frac{\\partial \\psi}{\\partial x}.\n",
    "\\end{align}\n",
    "\n",
    "This representation automatically satisfies the incompressibility condition:\n",
    "\\begin{align}\n",
    "\\nabla \\cdot \\mathbf{u} = \\frac{\\partial u_x}{\\partial x} + \\frac{\\partial u_y}{\\partial y} = 0.\n",
    "\\end{align}"
   ]
  },
  {
   "cell_type": "markdown",
   "id": "22",
   "metadata": {},
   "source": [
    "The vorticity $w$ is a scalar quantity in 2D, defined as the curl of the velocity field:\n",
    "\\begin{align}\n",
    "w = \\nabla \\times \\mathbf{u}.\n",
    "\\end{align}\n",
    "\n",
    "Using the velocity components in terms of the streamfunction, the vorticity can be written as:\n",
    "\\begin{align}\n",
    "w = \\frac{\\partial u_y}{\\partial x} - \\frac{\\partial u_x}{\\partial y} = -\\nabla^2 \\psi.\n",
    "\\end{align}\n",
    "\n",
    "Thus, the vorticity and streamfunction are related by the **Poisson equation**:\n",
    "\\begin{align}\n",
    "w = -\\nabla^2 \\psi.\n",
    "\\end{align}\n",
    "\n",
    "This relationship allows the velocity field to be computed from the vorticity by solving the Poisson equation for $\\psi$, and then taking derivatives of $\\psi$ to find $u_x$ and $u_y$."
   ]
  },
  {
   "cell_type": "markdown",
   "id": "23",
   "metadata": {},
   "source": [
    "### Governing Equation for Vorticity\n",
    "\n",
    "The vorticity transport equation is derived from the incompressible Navier-Stokes equations.\n",
    "Taking the curl of the momentum equation eliminates the pressure gradient term, yielding:\n",
    "\\begin{align}\n",
    "\\frac{\\partial w}{\\partial t} + \\mathbf{u} \\cdot \\nabla w = \\nu \\nabla^2 w + \\mathbf{f}_w,\n",
    "\\end{align}\n",
    "where:\n",
    "* $\\mathbf{u} \\cdot \\nabla w$ represents the nonlinear advection of vorticity,\n",
    "* $\\nu \\nabla^2 w$ accounts for viscous diffusion,\n",
    "* $\\mathbf{f}_w$ is the vorticity-specific forcing term.\n",
    "\n",
    "The term $\\mathbf{u} \\cdot \\nabla w$ can be expanded using the velocity components as:\n",
    "\\begin{align}\n",
    "\\mathbf{u} \\cdot \\nabla w = u_x \\frac{\\partial w}{\\partial x} + u_y \\frac{\\partial w}{\\partial y}.\n",
    "\\end{align}\n",
    "\n",
    "By substituting $u_x$ and $u_y$ in terms of $\\psi$, the nonlinear advection term is rewritten as the **Jacobian determinant**:\n",
    "\\begin{align}\n",
    "J(\\psi, w) = \\frac{\\partial \\psi}{\\partial x} \\frac{\\partial w}{\\partial y} - \\frac{\\partial \\psi}{\\partial y} \\frac{\\partial w}{\\partial x}.\n",
    "\\end{align}\n",
    "Thus, the vorticity transport equation becomes:\n",
    "\\begin{align}\n",
    "\\frac{\\partial w}{\\partial t} - J(\\psi, w) = \\nu \\nabla^2 w + \\mathbf{f}_w.\n",
    "\\end{align}"
   ]
  },
  {
   "cell_type": "markdown",
   "id": "24",
   "metadata": {},
   "source": [
    "### Incorporating Additional Physical Effects\n",
    "\n",
    "**Ekman damping** models frictional effects caused by the interaction of the fluid with a boundary layer.\n",
    "It acts as a large-scale energy sink and is proportional to the vorticity:\n",
    "\\begin{align}\n",
    "-\\mu w,\n",
    "\\end{align}\n",
    "where $\\mu$ is the Ekman coefficient.\n",
    "Including this term in the vorticity transport equation gives:\n",
    "\\begin{align}\n",
    "\\frac{\\partial w}{\\partial t} - J(\\psi, w) = \\nu \\nabla^2 w - \\mu w + \\mathbf{f}_w.\n",
    "\\end{align}\n",
    "\n",
    "Ekman damping is particularly relevant in geophysical systems, where it represents energy dissipation due to the Earth's surface or ocean floors.\n",
    "\n",
    "The **$\\beta$-plane approximation** models the variation of the Coriolis parameter $f$ with latitude.\n",
    "In the vorticity equation, this introduces a term proportional to the northward velocity component $u_y$:\n",
    "\\begin{align}\n",
    "\\beta u_y,\n",
    "\\end{align}\n",
    "where $\\beta$ is the linear expansion coefficient of the Coriolis parameter.\n",
    "Including this term in the vorticity transport equation gives:\n",
    "\\begin{align}\n",
    "\\frac{\\partial w}{\\partial t} - J(\\psi, w) + \\beta u_y = \\nu \\nabla^2 w - \\mu w + \\mathbf{f}_w.\n",
    "\\end{align}\n",
    "\n",
    "The beta-plane term is crucial for studying large-scale atmospheric and oceanic dynamics, as it leads to phenomena such as Rossby waves and geostrophic turbulence.\n",
    "\n",
    "### Advantages of the Vorticity-Streamfunction Formulation\n",
    "\n",
    "1. **Elimination of Pressure:**\n",
    "   The pressure term, which requires solving an additional Poisson equation in the velocity-pressure formulation, is completely removed in the vorticity-streamfunction approach.\n",
    "\n",
    "2. **Reduced Number of Variables:**\n",
    "   By working with $w$ and $\\psi$, the system is reduced to a single scalar equation for $w$ coupled with the Poisson equation for $\\psi$.\n",
    "\n",
    "3. **Natural Compatibility with Spectral Methods:**\n",
    "   The vorticity-streamfunction formulation lends itself well to spectral methods. Derivatives of $w$ and $\\psi$ are straightforward to compute in spectral space, and the Poisson equation becomes an algebraic equation.\n",
    "\n",
    "4. **Incorporation of Geophysical Effects:**\n",
    "   Ekman damping and the beta-plane approximation extend the applicability of the formulation to real-world problems in atmospheric and oceanic sciences."
   ]
  },
  {
   "cell_type": "markdown",
   "id": "25",
   "metadata": {},
   "source": [
    "## Spectral Representation of the Equations\n",
    "\n",
    "The vorticity-streamfunction formulation simplifies the governing equations of 2D incompressible hydrodynamics, making them naturally suited to spectral methods.\n",
    "By representing the vorticity and streamfunction in terms of Fourier series, we can efficiently compute derivatives and nonlinear terms in spectral space.\n",
    "This section details the spectral representation of the vorticity transport equation and the Poisson equation, highlighting the mathematical transformations, strategies to handle aliasing errors, and implementation in Python."
   ]
  },
  {
   "cell_type": "markdown",
   "id": "26",
   "metadata": {},
   "source": [
    "### Fourier Representation of Vorticity and Streamfunction\n",
    "\n",
    "For a periodic domain of size $L_x \\times L_y$, the vorticity $w(x, y, t)$ and streamfunction $\\psi(x, y, t)$ can be expanded as Fourier series:\n",
    "\\begin{align}\n",
    "w(x, y, t)    &= \\sum_{k_x, k_y} \\hat{w   }_{k_x, k_y}(t) e^{i (k_x x + k_y y)}, \\\\\n",
    "\\psi(x, y, t) &= \\sum_{k_x, k_y} \\hat{\\psi}_{k_x, k_y}(t) e^{i (k_x x + k_y y)},\n",
    "\\end{align}\n",
    "where:\n",
    "* $\\hat{w}_{k_x, k_y}$ and $\\hat{\\psi}_{k_x, k_y}$ are the Fourier coefficients of vorticity and streamfunction, respectively.\n",
    "* $k_x$ and $k_y$ are the wavenumbers in the $x$- and $y$-directions, given by:\n",
    "  \\begin{align}\n",
    "  k_x = \\frac{2\\pi n_x}{L_x}, \\quad k_y = \\frac{2\\pi n_y}{L_y}, \\quad n_x, n_y \\in \\mathbb{Z}.\n",
    "  \\end{align}"
   ]
  },
  {
   "cell_type": "markdown",
   "id": "27",
   "metadata": {},
   "source": [
    "#### Fourier Differentiation\n",
    "\n",
    "In spectral space, derivatives with respect to $x$ and $y$ transform into simple multiplications by $ik_x$ and $ik_y$, respectively.\n",
    "For example:\n",
    "\\begin{align}\n",
    "\\frac{\\partial w}{\\partial x} \\rightarrow ik_x \\hat{w}_{k_x, k_y}, \\quad \\frac{\\partial^2 w}{\\partial x^2} \\rightarrow -k_x^2 \\hat{w}_{k_x, k_y}.\n",
    "\\end{align}\n",
    "\n",
    "This property makes spectral methods computationally efficient, as derivatives reduce to element-wise multiplications."
   ]
  },
  {
   "cell_type": "markdown",
   "id": "28",
   "metadata": {},
   "source": [
    "### Poisson Equation in Spectral Space\n",
    "\n",
    "The Poisson equation relates the vorticity $w$ and the streamfunction $\\psi$:\n",
    "\\begin{align}\n",
    "w = -\\nabla^2 \\psi.\n",
    "\\end{align}\n",
    "\n",
    "In Fourier space, the Laplacian $\\nabla^2$ becomes multiplication by $-k^2$, where $k^2 = k_x^2 + k_y^2$.\n",
    "Thus, the Poisson equation transforms into:\n",
    "\\begin{align}\n",
    "\\hat{\\psi}_{k_x, k_y} = \\frac{\\hat{w}_{k_x, k_y}}{k^2}, \\quad k^2 \\neq 0.\n",
    "\\end{align}\n",
    "\n",
    "The $k^2 = 0$ mode corresponds to the mean value of $\\psi$, which can be set to zero for flows with no net circulation."
   ]
  },
  {
   "cell_type": "markdown",
   "id": "29",
   "metadata": {},
   "source": [
    "\\begin{align}\n",
    "u_y = -\\frac{\\partial \\psi}{\\partial x}.\n",
    "\\end{align}"
   ]
  },
  {
   "cell_type": "markdown",
   "id": "30",
   "metadata": {},
   "source": [
    "### Vorticity Transport Equation in Spectral Space\n",
    "\n",
    "Recalling the vorticity transport equation in real space is:\n",
    "\\begin{align}\n",
    "\\frac{\\partial w}{\\partial t} - J(\\psi, w) + \\beta u_y = \\nu \\nabla^2 w - \\mu w + \\mathbf{f}_w.\n",
    "\\end{align}\n",
    "\n",
    "In spectral space:\n",
    "* The Laplacian term $\\nabla^2 w$ transforms into $-k^2 \\hat{w}_{k_x, k_y}$.\n",
    "* The Ekman damping term $\\mu w$ becomes $-\\mu \\hat{w}_{k_x, k_y}$.\n",
    "* The Coriolis term $\\beta u_y$ becomes $-\\beta ik_x \\hat{w}_{k_x, k_y}/k^2$.\n",
    "* The nonlinear term $J(\\psi, w)$ is evaluated in real space and transformed back to spectral space using the Fast Fourier Transform (FFT).\n",
    "\n",
    "The equation in spectral space becomes:\n",
    "\\begin{align}\n",
    "\\frac{\\partial}{\\partial t}\\hat{w}_{k_x, k_y} = \\widehat{J(\\psi, w)} - \\nu k^2 \\hat{w}_{k_x, k_y} - \\mu \\hat{w}_{k_x, k_y} + \\beta \\frac{ik_x \\hat{w}_{k_x, k_y}}{k^2} + \\hat{f}_{w k_x, k_y}.\n",
    "\\end{align}"
   ]
  },
  {
   "cell_type": "code",
   "execution_count": null,
   "id": "31",
   "metadata": {},
   "outputs": [],
   "source": [
    "# Define the grid and wavenumbers\n",
    "Lx, Ly = 2 * np.pi, 2 * np.pi  # Domain size\n",
    "Nx, Ny = 128, 128              # Number of grid points\n",
    "\n",
    "x = np.linspace(-Lx/2, Lx/2, Nx, endpoint=False)\n",
    "y = np.linspace(-Lx/2, Ly/2, Ny, endpoint=False)\n",
    "x, y = np.meshgrid(x, y)\n",
    "\n",
    "kx = np.fft.fftfreq(Nx, d=Lx/Nx) * 2 * np.pi\n",
    "ky = np.fft.fftfreq(Ny, d=Ly/Ny) * 2 * np.pi\n",
    "kx, ky = np.meshgrid(kx, ky)\n",
    "\n",
    "kk  = kx*kx + ky*ky\n",
    "ikk = 1.0 / (kk + 1.2e-38)\n",
    "ikk[0,0] = 0  # Avoid multiplied by infinity for mean mode"
   ]
  },
  {
   "cell_type": "code",
   "execution_count": null,
   "id": "32",
   "metadata": {},
   "outputs": [],
   "source": [
    "# Initialize vorticity and streamfunction in spectral space\n",
    "w = np.exp(-0.5*(x*x+y*y)*16) # Example initial vorticity\n",
    "\n",
    "# Transform to Fourier (spectral) space\n",
    "W   = fft2(w)\n",
    "Psi = ikk * W"
   ]
  },
  {
   "cell_type": "code",
   "execution_count": null,
   "id": "33",
   "metadata": {},
   "outputs": [],
   "source": [
    "# Obtain velocity field\n",
    "def vel(psi):\n",
    "    psi_x = ifft2(1j * kx * fft2(psi)).real\n",
    "    psi_y = ifft2(1j * ky * fft2(psi)).real\n",
    "    return psi_y, -psi_x\n",
    "\n",
    "def plot(W, skip=4):\n",
    "    psi    = ifft2(ikk * W).real\n",
    "    ux, uy = vel(psi)\n",
    "    plt.imshow(psi, origin='lower', extent=[-Lx/2,Lx/2,-Ly/2,Ly/2])\n",
    "    plt.quiver(x[::skip,::skip], y[::skip,::skip], ux[::skip,::skip], uy[::skip,::skip])\n",
    "\n",
    "plot(W)"
   ]
  },
  {
   "cell_type": "code",
   "execution_count": null,
   "id": "34",
   "metadata": {},
   "outputs": [],
   "source": [
    "# Compute Jacobian determinant in real space\n",
    "def Jdet(Psi, W):\n",
    "    psi_x = ifft2(1j * kx * Psi).real\n",
    "    psi_y = ifft2(1j * ky * Psi).real\n",
    "    w_x   = ifft2(1j * kx * W  ).real\n",
    "    w_y   = ifft2(1j * ky * W  ).real\n",
    "    return fft2(psi_x * w_y - psi_y * w_x)\n",
    "\n",
    "J = Jdet(Psi, W)\n",
    "print(np.max(ifft2(J).imag))"
   ]
  },
  {
   "cell_type": "markdown",
   "id": "35",
   "metadata": {},
   "source": [
    "### Handling Aliasing Errors\n",
    "\n",
    "Nonlinear terms, such as $J(\\psi, w)$, involve products in real space that translate into convolutions in spectral space.\n",
    "These convolutions can introduce spurious interactions between modes, known as **aliasing errors**, due to the finite resolution of the grid.\n",
    "\n",
    "The **2/3 rule** is a widely used de-aliasing technique that truncates Fourier modes beyond $2/3$ of the maximum wavenumber.\n",
    "For a grid with $N$ points in each dimension:\n",
    "* Retain modes for $|k_x|, |k_y| \\leq N/3$.\n",
    "* Set all other modes to zero.\n",
    "\n",
    "The 2/3 rule ensures that spurious contributions from nonlinear interactions fall outside the resolved spectral range."
   ]
  },
  {
   "cell_type": "code",
   "execution_count": null,
   "id": "36",
   "metadata": {},
   "outputs": [],
   "source": [
    "# Apply the 2/3 rule\n",
    "def dealiasing(F):\n",
    "    Hx = Nx // 3\n",
    "    Hy = Ny // 3\n",
    "    F[Hx:-Hx, :] = 0\n",
    "    F[:, Hy:-Hy] = 0\n",
    "    return F\n",
    "\n",
    "# Apply de-aliasing to the Jacobian\n",
    "J = dealiasing(J)\n",
    "print(np.max(ifft2(J).imag))"
   ]
  },
  {
   "cell_type": "markdown",
   "id": "37",
   "metadata": {},
   "source": [
    "### Spectral-Galerkin vs. Pseudo-Spectral Methods\n",
    "\n",
    "The **spectral-Galerkin method** projects the governing equations onto the basis functions of the spectral expansion.\n",
    "This ensures the residual is orthogonal to the retained modes.\n",
    "\n",
    "The **pseudo-spectral method** evaluates nonlinear terms in real space and transforms them back to spectral space using FFT.\n",
    "While computationally efficient, it often requires de-aliasing or explicit viscosity to control aliasing errors.\n",
    "This method balances speed and accuracy, making it popular for practical simulations."
   ]
  },
  {
   "cell_type": "markdown",
   "id": "38",
   "metadata": {},
   "source": [
    "## Time Integration of the Spectral Equations\n",
    "\n",
    "After reformulating the vorticity-streamfunction equations in spectral space, the next step is to integrate the vorticity transport equation in time.\n",
    "Time integration involves advancing the Fourier coefficients of vorticity $\\hat{w}_{k_x, k_y}$ while accurately handling the nonlinear and linear terms.\n",
    "This section discusses suitable time-stepping schemes, their implementation, and how they are applied to the spectral representation of the equations."
   ]
  },
  {
   "cell_type": "markdown",
   "id": "39",
   "metadata": {},
   "source": [
    "### Time-Stepping Schemes\n",
    "\n",
    "Time integration methods for the spectral vorticity transport equation must balance stability, accuracy, and computational efficiency. Two commonly used schemes in spectral methods are:\n",
    "\n",
    "#### Explicit Schemes\n",
    "\n",
    "Explicit schemes, such as the **Runge-Kutta (RK) family**, compute the solution at the next time step based on known quantities at the current time step.\n",
    "They are easy to implement and efficient for problems dominated by advection or nonlinear dynamics.\n",
    "\n",
    "#### Implicit Schemes\n",
    "\n",
    "Implicit schemes, such as **Crank-Nicolson**, are unconditionally stable for linear terms but require solving a system of equations at each time step.\n",
    "\n",
    "#### Semi-Implicit Methods\n",
    "\n",
    "In spectral methods, implicit schemes are often used for the linear terms (e.g., viscous diffusion) to allow larger time steps, while explicit schemes handle nonlinear terms.\n",
    "\n",
    "A common approach splits the equation into linear and nonlinear parts:\n",
    "\\begin{align}\n",
    "\\frac{\\partial \\hat{w}}{\\partial t} = L(\\hat{w}) + N(\\hat{w}),\n",
    "\\end{align}\n",
    "where:\n",
    "* $L(\\hat{w})$ represents linear terms (e.g., viscous diffusion, Ekman damping, Coriolis effects),\n",
    "* $N(\\hat{w})$ represents nonlinear terms (e.g., Jacobian).\n",
    "\n",
    "The linear terms are treated implicitly, while the nonlinear terms are advanced explicitly.\n",
    "For example, the time-discretized form is:\n",
    "\\begin{align}\n",
    "\\hat{w}^{n+1} = \\frac{\\hat{w}^n + \\Delta t N(\\hat{w}^n)}{1 - \\Delta t L}.\n",
    "\\end{align}\n",
    "\n",
    "This approach combines the stability of implicit methods with the simplicity of explicit methods."
   ]
  },
  {
   "cell_type": "markdown",
   "id": "40",
   "metadata": {},
   "source": [
    "### Time Integration of the Vorticity Transport Equation\n",
    "\n",
    "The spectral vorticity transport equation is:\n",
    "\\begin{align}\n",
    "\\frac{\\partial}{\\partial t}\\hat{w}_{k_x, k_y} = \\widehat{J(\\psi, w)} - \\nu k^2 \\hat{w}_{k_x, k_y} - \\mu \\hat{w}_{k_x, k_y} + \\beta \\frac{ik_x \\hat{w}_{k_x, k_y}}{k^2} + \\hat{f}_{w k_x, k_y}.\n",
    "\\end{align}\n",
    "\n",
    "Breaking this into linear and nonlinear parts:\n",
    "* **Linear Terms:** Viscous diffusion $-\\nu k^2 \\hat{w}$, Ekman damping $-\\mu \\hat{w}$, and Coriolis effect $\\beta ik_x \\hat{w}/k^2$.\n",
    "* **Nonlinear Terms:** Jacobian determinant $\\widehat{J(\\psi, w)}$.\n",
    "\n",
    "Using a semi-implicit scheme:\n",
    "1. Advance the nonlinear terms explicitly using an RK4 method.\n",
    "2. Solve the linear terms implicitly using the formula:\n",
    "   \\begin{align}\n",
    "   \\hat{w}_{k_x, k_y}^{n+1} = \\frac{\\hat{w}_{k_x, k_y}^n + \\Delta t N(\\hat{w}_{k_x, k_y}^n)}{1 + \\Delta t (\\nu k^2 + \\mu - \\beta ik_x/k^2)}.\n",
    "   \\end{align}"
   ]
  },
  {
   "cell_type": "code",
   "execution_count": null,
   "id": "41",
   "metadata": {},
   "outputs": [],
   "source": [
    "# Initialize vorticity and streamfunction in spectral space\n",
    "ux = np.random.normal(scale=0.5, size=x.shape)\n",
    "uy = np.where(x >= 0, 1, -1) # Example initial vorticity"
   ]
  },
  {
   "cell_type": "code",
   "execution_count": null,
   "id": "42",
   "metadata": {},
   "outputs": [],
   "source": [
    "W = 1j * kx * fft2(uy) - 1j * ky * fft2(ux)\n",
    "plot(W)"
   ]
  },
  {
   "cell_type": "code",
   "execution_count": null,
   "id": "43",
   "metadata": {},
   "outputs": [],
   "source": [
    "# Define simulation parameters\n",
    "dt   = 0.001  # Time step\n",
    "nu   = 0.001  # Viscosity\n",
    "mu   = 0.0    # Ekman damping\n",
    "beta = 0.0    # Coriolis parameter\n",
    "N    = 30000  # Number of time steps\n",
    "S    = 30\n",
    "\n",
    "# Time-stepping loop\n",
    "for n in tqdm(range(N//S)):\n",
    "    plot(W)\n",
    "    plt.savefig(f'{n:04d}.png')\n",
    "    plt.close()\n",
    "\n",
    "    for j in range(S):\n",
    "        # Obtain stream function\n",
    "        Psi = ikk * W\n",
    "\n",
    "        # Compute nonlinear term (Jacobian determinant)\n",
    "        J = Jdet(Psi, W)\n",
    "        J = dealiasing(J)  # Apply 2/3 rule\n",
    "\n",
    "        # Update vorticity in spectral space\n",
    "        W = (W + dt * J) / (1 + dt * (nu * kk + mu - (1j * beta) * (kx * ikk)))\n",
    "\n",
    "plot(W)\n",
    "plt.savefig(f'{n+1:04d}.png')"
   ]
  }
 ],
 "metadata": {
  "jupytext": {
   "default_lexer": "ipython3"
  },
  "kernelspec": {
   "display_name": "Python 3 (ipykernel)",
   "language": "python",
   "name": "python3"
  },
  "language_info": {
   "codemirror_mode": {
    "name": "ipython",
    "version": 3
   },
   "file_extension": ".py",
   "mimetype": "text/x-python",
   "name": "python",
   "nbconvert_exporter": "python",
   "pygments_lexer": "ipython3",
   "version": "3.12.9"
  }
 },
 "nbformat": 4,
 "nbformat_minor": 5
}
