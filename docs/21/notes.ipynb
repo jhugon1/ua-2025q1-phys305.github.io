{
 "cells": [
  {
   "cell_type": "markdown",
   "id": "0",
   "metadata": {},
   "source": [
    "# Parallel Computing"
   ]
  },
  {
   "cell_type": "markdown",
   "id": "1",
   "metadata": {},
   "source": [
    "Modern scientific computing tasks often involve massive datasets and computationally expensive algorithms.\n",
    "Problems like large-scale simulations, statistical sampling (e.g., Monte Carlo methods), and real-time data processing demand a level of performance that cannot be achieved with sequential execution alone.\n",
    "\n",
    "Parallel computing is the practice of dividing a problem into smaller subproblems that can be solved simultaneously.\n",
    "With the rise of multicore processors, distributed systems, and GPUs, parallel computing is now essential for high-performance computing (HPC).\n",
    "\n",
    "This lecture introduces key ideas, theoretical limits, and practical tools for parallel computation."
   ]
  },
  {
   "cell_type": "markdown",
   "id": "2",
   "metadata": {},
   "source": [
    "## Theoretical Foundations\n",
    "\n",
    "Before we explore specific tools and implementations, it's important to understand the theoretical limits of parallel computing.\n",
    "These foundational concepts help us answer questions like:\n",
    "* What is the maximum possible speedup if we parallelize a task?\n",
    "* Where should we invest our effort to gain performance?\n",
    "* Why do some problems benefit more from parallelization than others?\n",
    "\n",
    "In addition, scaling analyses provide practical ways to assess real-world performance of parallel codes."
   ]
  },
  {
   "cell_type": "markdown",
   "id": "3",
   "metadata": {},
   "source": [
    "### Amdahl's Law\n",
    "\n",
    "Let $f$ be the fraction of a program that must be executed sequentially.\n",
    "The maximum speed-up $S$ obtainable with $P$ processors is:\n",
    "\\begin{align}\n",
    "  S(P) = \\frac{1}{f + (1-f)/P}.\n",
    "\\end{align}\n",
    "As $P \\to \\infty$, $S \\to 1/f$.\n",
    "\n",
    "**Implication:** Even small sequential portions limit total speedup.\n",
    "\n",
    "Amdahl's law illustrates that optimizing the serial part of a program can be more impactful than parallelizing the rest.\n",
    "For example, if 5% of the computation is inherently sequential, no matter how many processors are used, we cannot speed up the program more than 20x.\n",
    "This is espeically important when one design algorithms for leadership HPC (e.g., DOE Frontier).\n",
    "It corresponds to \"strong scaling tests\"."
   ]
  },
  {
   "cell_type": "markdown",
   "id": "4",
   "metadata": {},
   "source": [
    "### Gustafson's Law\n",
    "\n",
    "Recognizes that in order to fully utilize computing resources, problem size often needs to scale with the number of processors:\n",
    "\\begin{align}\n",
    "  S(P) = P - f(P - 1)\n",
    "\\end{align}\n",
    "Assumes the workload increases with $P$, thus avoiding Amdahl's pessimism.\n",
    "\n",
    "**Implication:** In practice, we often scale up problems as we add more resources.\n",
    "This law gives a more optimistic and realistic view in scientific computing, where we often increase the resolution or domain size with more computing power.\n",
    "It corresponds to \"weak scaling tests\"."
   ]
  },
  {
   "cell_type": "markdown",
   "id": "5",
   "metadata": {},
   "source": [
    "### Flynn's Taxonomy\n",
    "\n",
    "A classification of computer architectures:\n",
    "\n",
    "* SISD: Single Instruction Single Data (standard CPU)\n",
    "* SIMD: Single Instruction Multiple Data (vector processors, GPUs)\n",
    "* MISD: Rare, mostly theoretical\n",
    "* MIMD: Multiple Instruction Multiple Data (clusters, multicore CPUs)\n",
    "\n",
    "Flynn's taxonomy helps us map programming models to the underlying hardware.\n",
    "For instance, OpenMP typically targets MIMD systems with shared memory, while SIMD models underpin GPUs and vectorized CPU instructions"
   ]
  },
  {
   "cell_type": "markdown",
   "id": "6",
   "metadata": {},
   "source": [
    "## HPC Accounts\n",
    "\n",
    "We may be able to run some code on UA HPC.\n",
    "Let's gather people's netid on this [Google Spreadsheet](https://docs.google.com/spreadsheets/d/1tHEYJFuaGw0CMH7ebrvMy1pd6xB-nDkLDTodj83TAN0/edit?usp=sharing)."
   ]
  },
  {
   "cell_type": "markdown",
   "id": "7",
   "metadata": {
    "slideshow": {
     "slide_type": "subslide"
    }
   },
   "source": [
    "## Monte Carlo Computation of $\\pi$\n",
    "\n",
    "We will parallelize a simple algorithm using different techniques.\n",
    "The first algorithm is monte carlo computation of $\\pi$.\n",
    "This is an embarrassingly parallel problem.\n",
    "So not much actual algorithm consideration is needed.\n",
    "We main use it to get ourselve familiar with different tools."
   ]
  },
  {
   "cell_type": "markdown",
   "id": "8",
   "metadata": {},
   "source": [
    "### Python Series Code\n",
    "\n",
    "Here is the algorithm in native python:"
   ]
  },
  {
   "cell_type": "code",
   "execution_count": null,
   "id": "9",
   "metadata": {},
   "outputs": [],
   "source": [
    "import random\n",
    "\n",
    "def mcpi_loop(n_total):\n",
    "    n_inside = 0\n",
    "    for _ in range(n_total):\n",
    "        x, y = random.random(), random.random()\n",
    "        if x*x + y*y < 1.0:\n",
    "            n_inside += 1\n",
    "    return n_inside"
   ]
  },
  {
   "cell_type": "code",
   "execution_count": null,
   "id": "10",
   "metadata": {},
   "outputs": [],
   "source": [
    "pi = 4 * mcpi_loop(1000_000) / 1000_000\n",
    "print(pi)"
   ]
  },
  {
   "cell_type": "code",
   "execution_count": null,
   "id": "11",
   "metadata": {},
   "outputs": [],
   "source": [
    "%timeit mcpi_loop(1000_000)"
   ]
  },
  {
   "cell_type": "markdown",
   "id": "12",
   "metadata": {},
   "source": [
    "On my laptop it takes about 80ms to perform 1M samples.\n",
    "The number of significant digits is $\\sim \\log_{10}\\sqrt{N} = 3$. "
   ]
  },
  {
   "cell_type": "markdown",
   "id": "13",
   "metadata": {},
   "source": [
    "### Embarrassingly Parallel Computing\n",
    "\n",
    "Since this algorithm is embarrassingly parallelizable, we can simply run it multiple times and compute the mean.\n",
    "Let's do this as a class exercise using this [Google Sheet](https://docs.google.com/spreadsheets/d/1tHEYJFuaGw0CMH7ebrvMy1pd6xB-nDkLDTodj83TAN0/edit?usp=sharing).\n",
    "\n",
    "Effectively, we just did a weak scaling test!"
   ]
  },
  {
   "cell_type": "markdown",
   "id": "14",
   "metadata": {},
   "source": [
    "### Numpy Parallel Code\n",
    "\n",
    "When compiled with BLAS backend, `Numpy` automatically distribute compute across multiple cores."
   ]
  },
  {
   "cell_type": "code",
   "execution_count": null,
   "id": "15",
   "metadata": {},
   "outputs": [],
   "source": [
    "import numpy as np\n",
    "\n",
    "def mcpi_numpy(n_total):\n",
    "    x = np.random.rand(n_total)\n",
    "    y = np.random.rand(n_total)\n",
    "    return np.sum(x*x + y*y < 1.0)"
   ]
  },
  {
   "cell_type": "code",
   "execution_count": null,
   "id": "16",
   "metadata": {},
   "outputs": [],
   "source": [
    "pi = 4 * mcpi_numpy(1000_000) / 1000_000\n",
    "print(pi)"
   ]
  },
  {
   "cell_type": "code",
   "execution_count": null,
   "id": "17",
   "metadata": {},
   "outputs": [],
   "source": [
    "%timeit mcpi_numpy(1000_000)"
   ]
  },
  {
   "cell_type": "markdown",
   "id": "18",
   "metadata": {},
   "source": [
    "### JAX Parallel Code\n",
    "\n",
    "Many operations in `JAX`, especially linear algebra related, automatically use multiple cores."
   ]
  },
  {
   "cell_type": "code",
   "execution_count": null,
   "id": "19",
   "metadata": {},
   "outputs": [],
   "source": [
    "from jax import numpy  as jnp\n",
    "from jax import random as jrd\n",
    "\n",
    "def mcpi_jax(n_total):\n",
    "    key = jrd.key(0)\n",
    "    key1, key2 = jrd.split(key)\n",
    "    \n",
    "    x = jrd.uniform(key1, n_total)\n",
    "    y = jrd.uniform(key2, n_total)\n",
    "    return jnp.sum(x*x + y*y < 1.0)"
   ]
  },
  {
   "cell_type": "code",
   "execution_count": null,
   "id": "20",
   "metadata": {},
   "outputs": [],
   "source": [
    "pi = 4 * mcpi_jax(1000_000) / 1000_000\n",
    "print(pi)"
   ]
  },
  {
   "cell_type": "code",
   "execution_count": null,
   "id": "21",
   "metadata": {},
   "outputs": [],
   "source": [
    "%timeit mcpi_jax(1000_000)"
   ]
  },
  {
   "cell_type": "markdown",
   "id": "22",
   "metadata": {},
   "source": [
    "### C Series Code\n",
    "\n",
    "Our original python code can be easily translate to C.\n",
    "Please put the following code into a new file `mcpi_loop.c`:\n",
    "```c\n",
    "#include <stdlib.h>\n",
    "\n",
    "int mcpi_loop(int n_total)\n",
    "{\n",
    "\tint n_inside = 0;\n",
    "\tfor(int i = 0; i < n_total; ++i) {\n",
    "\t\tdouble x = (double)rand() / RAND_MAX;\n",
    "\t\tdouble y = (double)rand() / RAND_MAX;\n",
    "\n",
    "\t\tif(x * x + y * y < 1.0)\n",
    "\t\t\t++n_inside;\n",
    "\t}\n",
    "\n",
    "\treturn n_inside;\n",
    "}\n",
    "```"
   ]
  },
  {
   "cell_type": "markdown",
   "id": "23",
   "metadata": {},
   "source": [
    "Although the actual C code is pretty simple, unfortunately, there is not really a portable, high-resolution time functionon in `bash`.\n",
    "Hence, we need to do timing ourselves in the C code:\n",
    "```c\n",
    "#include <time.h>\n",
    "\n",
    "static struct timespec t0;\n",
    "\n",
    "void tik()\n",
    "{\n",
    "\tclock_gettime(CLOCK_REALTIME, &t0);\n",
    "}\n",
    "\n",
    "double tok()\n",
    "{\n",
    "\tstruct timespec t1, dt;\n",
    "\tclock_gettime(CLOCK_REALTIME, &t1);\n",
    "\n",
    "\tdt.tv_nsec = t1.tv_nsec - t0.tv_nsec;\n",
    "\tdt.tv_sec  = t1.tv_sec  - t0.tv_sec;\n",
    "\tif(dt.tv_nsec < 0) {\n",
    "\t\tdt.tv_nsec += 1000000000;\n",
    "\t\tdt.tv_sec--;\n",
    "\t}\n",
    "\n",
    "\tint ms = dt.tv_nsec / 1000000 + dt.tv_sec * 1000;\n",
    "\tint ns = dt.tv_nsec % 1000000;\n",
    "\n",
    "\treturn ms + 1e-6 * ns;\n",
    "}\n",
    "```"
   ]
  },
  {
   "cell_type": "markdown",
   "id": "24",
   "metadata": {},
   "source": [
    "Then we can put it all together and create the main function:\n",
    "```c\n",
    "#include <stdio.h>\n",
    "\n",
    "int main()\n",
    "{\n",
    "\ttik();\n",
    "\n",
    "\tdouble pi = 4.0 * mcpi_loop(1000000) / 1000000;\n",
    "\tdouble ms = tok();\n",
    "\n",
    "\tprintf(\"pi = %f\\n\", pi);\n",
    "\tprintf(\"dt = %f ms\\n\", ms);\n",
    "\n",
    "\treturn 0;\n",
    "}\n",
    "```"
   ]
  },
  {
   "cell_type": "markdown",
   "id": "25",
   "metadata": {},
   "source": [
    "We can put all these functions into a single \"mcpi_loop.c\" file and then compile with:\n",
    "```sh\n",
    "gcc mcpi_loop.c -O3 -o mcpi_loop\n",
    "./mcpi_loop\n",
    "```\n",
    "\n",
    "On my laptop, the run takes ~ 36 ms."
   ]
  },
  {
   "cell_type": "markdown",
   "id": "26",
   "metadata": {},
   "source": [
    "### Shared Memory: OpenMP C Code\n",
    "\n",
    "OpenMP is a widely used API for writing multithreaded applications in C, C++, and Fortran.\n",
    "It allows you to add simple compiler directives (pragmas) to enable parallel execution on shared-memory systems.\n",
    "\n",
    "Its key features include:\n",
    "* Easy to parallelize loops using `#pragma omp parallel for`\n",
    "* Threads share memory, so synchronization and data races must be handled carefully\n",
    "* OpenMP includes mechanisms for reductions, barriers, critical sections, and more\n",
    "\n",
    "To use OpenMP:\n",
    "* Include the header #include <omp.h>\n",
    "* Compile with `gcc -fopenmp`"
   ]
  },
  {
   "cell_type": "markdown",
   "id": "27",
   "metadata": {},
   "source": [
    "Here is our updated `mcpi_omp()` function:\n",
    "```c\n",
    "#include <omp.h>\n",
    "#include <stdlib.h>\n",
    "\n",
    "int mcpi_omp(int n_total)\n",
    "{\n",
    "\tint n_inside = 0;\n",
    "\n",
    "\t#pragma omp parallel for reduction(+:n_inside)\n",
    "\tfor(int i = 0; i < n_total; ++i) {\n",
    "\t\tdouble x = (double)rand() / RAND_MAX;\n",
    "\t\tdouble y = (double)rand() / RAND_MAX;\n",
    "\n",
    "\t\tif(x * x + y * y < 1.0)\n",
    "\t\t\t++n_inside;\n",
    "\t}\n",
    "\n",
    "\treturn n_inside;\n",
    "}\n",
    "```"
   ]
  },
  {
   "cell_type": "markdown",
   "id": "28",
   "metadata": {},
   "source": [
    "Copying it with `tik()`, `tok()`, and `main()` to \"mcpi_omp.c\", we can now compile our OpenMP version by\n",
    "```sh\n",
    "gcc mcpi_omp.c -fopenmp -O3 -o mcpi_omp\n",
    "./mcpi_omp\n",
    "```\n",
    "\n",
    "On my laptop, the run takes ~ 8 ms, matching the `numpy` implementation."
   ]
  },
  {
   "cell_type": "markdown",
   "id": "29",
   "metadata": {},
   "source": [
    "### Distributed Memory: MPI\n",
    "\n",
    "MPI (Message Passing Interface) is the de facto standard for distributed-memory parallel programming.\n",
    "Unlike OpenMP, where threads share memory, MPI processes have separate memory spaces and must explicitly communicate using messages.\n",
    "\n",
    "MPI is well-suited for large-scale clusters and supercomputers, where each node has its own memory and processors.\n",
    "\n",
    "Common MPI functions include:\n",
    "* `MPI_Init()` and `MPI_Finalize()` for starting and ending MPI programs\n",
    "* `MPI_Comm_rank()` and `MPI_Comm_size()` to identify each process and the total number of processes\n",
    "* `MPI_Send()`, `MPI_Recv()`, and `MPI_Reduce()` for data exchange and aggregation"
   ]
  },
  {
   "cell_type": "markdown",
   "id": "30",
   "metadata": {},
   "source": [
    "Important note: One of the most commonly used implementations of MPI is OpenMPI.\n",
    "Despite the similar name, OpenMPI is unrelated to OpenMP.\n",
    "The name similarity is unfortunately confusing!\n",
    "* OpenMP is for multithreading on shared-memory systems\n",
    "* OpenMPI is a software implementation of the MPI standard for distributed-memory systems\n",
    "\n",
    "To compile and run an MPI program, use `mpicc` to compile the program and use `mpirun -np N ./program` to run it with `N` processes."
   ]
  },
  {
   "cell_type": "markdown",
   "id": "31",
   "metadata": {},
   "source": [
    "Here is an example implementation:\n",
    "```c\n",
    "#include <mpi.h>\n",
    "\n",
    "int main(int argc, char** argv)\n",
    "{\n",
    "\ttik();\n",
    "\n",
    "\tMPI_Init(&argc, &argv);\n",
    "\n",
    "\tint rank, size;\n",
    "\tMPI_Comm_rank(MPI_COMM_WORLD, &rank);\n",
    "\tMPI_Comm_size(MPI_COMM_WORLD, &size);\n",
    "\n",
    "\tint n_total = 1000000;\n",
    "\tint l_total = n_total / size;\n",
    "\n",
    "\tsrand(time(NULL)+rank); // ensure different seed per process\n",
    "\tint l_inside = mcpi_loop(l_total);\n",
    "\n",
    "\tint n_inside = 0;\n",
    "\tMPI_Reduce(&l_inside, &n_inside, 1, MPI_INT, MPI_SUM, 0, MPI_COMM_WORLD);\n",
    "\n",
    "\tif(rank == 0) {\n",
    "\t\tdouble pi = 4.0 * n_inside / n_total;\n",
    "\t\tprintf(\"Estimated value of pi: %f\\n\", pi);\n",
    "\t}\n",
    "\n",
    "\tMPI_Finalize();\n",
    "\n",
    "\tdouble ms = tok();\n",
    "\tif(rank == 0)\n",
    "\t\tprintf(\"dt = %f ms\\n\", ms);\n",
    "\n",
    "\treturn 0;\n",
    "}\n",
    "```"
   ]
  },
  {
   "cell_type": "markdown",
   "id": "32",
   "metadata": {},
   "source": [
    "On my laptop, when I run `mpirun -np 4 ./mcpi_mpi`, it took ~ 25 ms.\n",
    "This is significantly higher than the OpenMP version because of the all the startup overhead."
   ]
  },
  {
   "cell_type": "markdown",
   "id": "33",
   "metadata": {},
   "source": [
    "### Job Submission to HPC with Slurm\n",
    "\n",
    "On many HPC clusters, job execution is managed by a workload manager.\n",
    "One of the most widely used systems is Slurm (Simple Linux Utility for Resource Management).\n",
    "\n",
    "Slurm schedules jobs across compute nodes and handles resource allocation, job queues, and execution environments.\n",
    "Instead of running MPI jobs interactively with mpirun, users typically submit jobs using a Slurm script."
   ]
  },
  {
   "cell_type": "markdown",
   "id": "34",
   "metadata": {},
   "source": [
    "The UA HPC website has some [concise documentation](https://uarizona.atlassian.net/wiki/spaces/UAHPC/pages/75989810/Job+Examples) of using SLURM."
   ]
  },
  {
   "cell_type": "markdown",
   "id": "35",
   "metadata": {},
   "source": [
    "And here is a sample submission script \"submit.sh\" that we may use\n",
    "```bash\n",
    "#!/bin/bash\n",
    "\n",
    "#SBATCH --job-name=mcpi_mpi\n",
    "#SBATCH --ntasks=4\n",
    "#SBATCH --nodes=1\n",
    "#SBATCH --mem=1gb\n",
    "#SBATCH --time=00:05:00\n",
    "#SBATCH --partition=standard\n",
    "#SBATCH --account=2025q1-phys305\n",
    " \n",
    "# SLURM Inherits your environment. cd $SLURM_SUBMIT_DIR not needed\n",
    "pwd; hostname; date\n",
    " \n",
    "module load openmpi3\n",
    "/usr/bin/time -o mcpi_mpi.time mpirun -np 4 mcpi_mpi\n",
    "```"
   ]
  },
  {
   "cell_type": "markdown",
   "id": "36",
   "metadata": {},
   "source": [
    "To submit the job, simply run\n",
    "```bash\n",
    "sbatch submit.sh\n",
    "```"
   ]
  },
  {
   "cell_type": "markdown",
   "id": "37",
   "metadata": {},
   "source": [
    "To check your job, run\n",
    "```bash\n",
    "squeue -u USRENAME\n",
    "```"
   ]
  }
 ],
 "metadata": {
  "kernelspec": {
   "display_name": "Python 3 (ipykernel)",
   "language": "python",
   "name": "python3"
  },
  "language_info": {
   "codemirror_mode": {
    "name": "ipython",
    "version": 3
   },
   "file_extension": ".py",
   "mimetype": "text/x-python",
   "name": "python",
   "nbconvert_exporter": "python",
   "pygments_lexer": "ipython3",
   "version": "3.12.9"
  }
 },
 "nbformat": 4,
 "nbformat_minor": 5
}
